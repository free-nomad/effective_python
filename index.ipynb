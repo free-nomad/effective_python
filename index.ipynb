{
 "cells": [
  {
   "cell_type": "markdown",
   "metadata": {},
   "source": [
    "# CHAPTER 1 파이썬답게 생각하기\n",
    "* BETTER WAY 1 사용 중인 파이썬의 버전을 알아두라\n",
    "* BETTER WAY 2 PEP 8 스타일 가이드를 따르라\n",
    "* BETTER WAY 3 bytes와 str의 차이를 알아두라\n",
    "* BETTER WAY 4 C 스타일 형식 문자열을 str.format과 쓰기보다는 f-문자열을 통한 인터폴레이션을 사용하라\n",
    "* BETTER WAY 5 복잡한 식을 쓰는 대신 도우미 함수를 작성하라\n",
    "* BETTER WAY 6 인덱스를 사용하는 대신 대입을 사용해 데이터를 언패킹하라"
   ]
  },
  {
   "cell_type": "markdown",
   "metadata": {},
   "source": []
  }
 ],
 "metadata": {
  "language_info": {
   "name": "python"
  },
  "orig_nbformat": 4
 },
 "nbformat": 4,
 "nbformat_minor": 2
}
