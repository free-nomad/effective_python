{
 "cells": [
  {
   "cell_type": "markdown",
   "metadata": {},
   "source": [
    "# CHAPTER 1 파이썬답게 생각하기\n",
    "## BETTER WAY 1 사용 중인 파이썬의 버전을 알아두라\n",
    "## BEETER WAY 2 PEP 8 스타일 가이드를 따르라\n"
   ]
  },
  {
   "cell_type": "markdown",
   "metadata": {},
   "source": []
  }
 ],
 "metadata": {
  "language_info": {
   "name": "python"
  },
  "orig_nbformat": 4
 },
 "nbformat": 4,
 "nbformat_minor": 2
}
