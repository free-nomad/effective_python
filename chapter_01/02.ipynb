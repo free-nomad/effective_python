{
 "cells": [
  {
   "attachments": {},
   "cell_type": "markdown",
   "metadata": {},
   "source": [
    "# BETTER WAY 2 PEP 8 스타일 가이드를 따르라"
   ]
  },
  {
   "attachments": {},
   "cell_type": "markdown",
   "metadata": {},
   "source": [
    "파이썬 개선 제안 (Python Enhancement Proposal) -> 파이썬 코드 스타일 가이드"
   ]
  },
  {
   "cell_type": "markdown",
   "metadata": {},
   "source": [
    "## 규칙\n",
    "### 공백\n",
    "* 파이썬에서 공백(whitespace)은 중요한 의미가 있다.\n",
    "### 명명 규약\n",
    "* 규약을 사용하면 코드를 읽을 때 각 이름이 어떤 유형에 속하는지 쉽게 구분할 수 있다.\n",
    "* 뱀 표기법 (snake case) - 소문자와 밑줄 사용\n",
    "* 파스칼 표기법(Pascal Case) - 단어를 이어 붙이되, 각 단어의 첫 글자를 대문자로 만든다.\n",
    "### 식과 문\n",
    "* 문제를 해결할 명백한 방법이 하나 있으며, 가급적이면 유일해야 한다.\n",
    "### 임포트\n",
    "* 임포트해 코드에 사용하는 방법\n",
    "### Pylint\n",
    "* 파이썬 소스 코드를 분석하는 정적 분석기(static analyzer) -> PEP 8 스타일 가이드를 자동으로 실행해준다."
   ]
  },
  {
   "attachments": {},
   "cell_type": "markdown",
   "metadata": {},
   "source": [
    "## 기억해야 할 내용\n",
    "* 파이썬 코드를 작성할 때는 항상 파이썬 개선 제안 PEP 스타일 가이드를 따르라."
   ]
  },
  {
   "cell_type": "markdown",
   "metadata": {},
   "source": []
  }
 ],
 "metadata": {
  "language_info": {
   "name": "python"
  },
  "orig_nbformat": 4
 },
 "nbformat": 4,
 "nbformat_minor": 2
}
